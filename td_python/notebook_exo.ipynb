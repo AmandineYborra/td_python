{
 "cells": [
  {
   "cell_type": "markdown",
   "metadata": {},
   "source": [
    "## Palindrome"
   ]
  },
  {
   "cell_type": "code",
   "execution_count": 1,
   "metadata": {},
   "outputs": [
    {
     "name": "stdout",
     "output_type": "stream",
     "text": [
      "Entrez un mot :mordre\n",
      "mordre n'est pas un palindrome\n"
     ]
    }
   ],
   "source": [
    "chaine = input(\"Entrez un mot :\")\n",
    "if chaine == chaine[::-1]:\n",
    "    print (chaine, \"est un palindrome\")\n",
    "else:\n",
    "    print (chaine, \"n'est pas un palindrome\")"
   ]
  },
  {
   "cell_type": "markdown",
   "metadata": {},
   "source": [
    "## Lancer de dés"
   ]
  },
  {
   "cell_type": "code",
   "execution_count": 2,
   "metadata": {},
   "outputs": [
    {
     "name": "stdout",
     "output_type": "stream",
     "text": [
      "2\n",
      "1\n",
      "6\n",
      "2\n",
      "6\n",
      "17\n"
     ]
    }
   ],
   "source": [
    "from random import* \n",
    "\n",
    "# On tire 5 nombres aléatoire entre 1 et 6\n",
    "de1=randint(1,6)\n",
    "print(de1)\n",
    "\n",
    "de2=randint(1,6)\n",
    "print(de2)\n",
    "\n",
    "de3=randint(1,6)\n",
    "print(de3)\n",
    "\n",
    "de4=randint(1,6)\n",
    "print(de4)\n",
    "\n",
    "de5=randint(1,6)\n",
    "print(de5)\n",
    "     \n",
    "sommeDes = de1 + de2 + de3 + de4 + de5\n",
    "print(sommeDes)"
   ]
  },
  {
   "cell_type": "markdown",
   "metadata": {},
   "source": [
    "## Calcul des moyennes"
   ]
  },
  {
   "cell_type": "code",
   "execution_count": 4,
   "metadata": {},
   "outputs": [
    {
     "name": "stdout",
     "output_type": "stream",
     "text": [
      "Entrez une note :17\n",
      "17\n",
      "Entrez une note :18\n",
      "35\n",
      "Entrez une note :20\n",
      "55\n",
      "Entrez une note :19\n",
      "74\n",
      "Entrez une note :14\n",
      "88\n",
      "17.6\n"
     ]
    }
   ],
   "source": [
    "sommeNotes = 0\n",
    "moyenne = 0\n",
    "for i in range(5):\n",
    "    note = int(input(\"Entrez une note :\"))\n",
    "    sommeNotes += note\n",
    "    print(sommeNotes)    \n",
    "moyenne = sommeNotes / 5\n",
    "print(moyenne)"
   ]
  },
  {
   "cell_type": "markdown",
   "metadata": {},
   "source": [
    "## Traitement des données contenues dans une matrice"
   ]
  },
  {
   "cell_type": "markdown",
   "metadata": {},
   "source": [
    "4.1"
   ]
  },
  {
   "cell_type": "code",
   "execution_count": 6,
   "metadata": {},
   "outputs": [
    {
     "ename": "SyntaxError",
     "evalue": "invalid syntax (<ipython-input-6-4559867f2710>, line 1)",
     "output_type": "error",
     "traceback": [
      "\u001b[1;36m  File \u001b[1;32m\"<ipython-input-6-4559867f2710>\"\u001b[1;36m, line \u001b[1;32m1\u001b[0m\n\u001b[1;33m    int tab2d = {{6,2,3,5},{4,6,2,6},{1,3,6,7},{3,6,3,8}}\u001b[0m\n\u001b[1;37m            ^\u001b[0m\n\u001b[1;31mSyntaxError\u001b[0m\u001b[1;31m:\u001b[0m invalid syntax\n"
     ]
    }
   ],
   "source": [
    "int tab2d = {{6,2,3,5},{4,6,2,6},{1,3,6,7},{3,6,3,8}}\n",
    "int i,j\n",
    "for i in range (tab2d):\n",
    "    j=0\n",
    "    i++\n",
    "    for j in range(tab2d[i]):\n",
    "        if((j % 2) != 0):\n",
    "                somme = somme + i\n",
    "        \n",
    "print(somme)"
   ]
  },
  {
   "cell_type": "markdown",
   "metadata": {},
   "source": [
    "4.2"
   ]
  },
  {
   "cell_type": "code",
   "execution_count": null,
   "metadata": {},
   "outputs": [],
   "source": []
  },
  {
   "cell_type": "markdown",
   "metadata": {},
   "source": [
    "4.3"
   ]
  },
  {
   "cell_type": "code",
   "execution_count": null,
   "metadata": {},
   "outputs": [],
   "source": []
  },
  {
   "cell_type": "markdown",
   "metadata": {},
   "source": [
    "4.4"
   ]
  },
  {
   "cell_type": "code",
   "execution_count": null,
   "metadata": {},
   "outputs": [],
   "source": []
  },
  {
   "cell_type": "markdown",
   "metadata": {},
   "source": [
    "## Base de données étudiante"
   ]
  },
  {
   "cell_type": "markdown",
   "metadata": {},
   "source": [
    "5.1"
   ]
  },
  {
   "cell_type": "code",
   "execution_count": null,
   "metadata": {},
   "outputs": [],
   "source": []
  },
  {
   "cell_type": "markdown",
   "metadata": {},
   "source": [
    "5.2"
   ]
  },
  {
   "cell_type": "code",
   "execution_count": null,
   "metadata": {},
   "outputs": [],
   "source": []
  },
  {
   "cell_type": "markdown",
   "metadata": {},
   "source": [
    "## Année bissextile"
   ]
  },
  {
   "cell_type": "code",
   "execution_count": 4,
   "metadata": {},
   "outputs": [
    {
     "name": "stdout",
     "output_type": "stream",
     "text": [
      "Saisissez une année : 2008\n",
      "L'année est bissextile.\n"
     ]
    }
   ],
   "source": [
    "annee = int(input(\"Saisissez une année : \"))\n",
    "\n",
    "if annee % 400 == 0 or (annee % 4 == 0 and annee % 100 != 0):\n",
    "    print(\"L'année est bissextile.\")\n",
    "else:\n",
    "    print(\"L'année saisie n'est pas bissextile.\")"
   ]
  },
  {
   "cell_type": "markdown",
   "metadata": {},
   "source": [
    "## Echange de triangles"
   ]
  },
  {
   "cell_type": "code",
   "execution_count": null,
   "metadata": {},
   "outputs": [],
   "source": [
    "#tab =[[10, 11, 45, 78],[23, 44, 12, 56],[56, 90, 67, 89],[47, 78, 55, 34]]\n",
    "#i=0\n",
    "#echange=0\n",
    "#while (i < len(tab)):\n",
    "    #j=0\n",
    "    #while (j < len(tab)):\n",
    "        #echange = tab[i][j]\n",
    "        #tab[i][j] = tab[j],[i]\n",
    "        #tab[j][i] = echange   \n",
    "#print (echange)\n",
    "\n",
    "#int tab ={{10, 11, 45, 78},{23, 44, 12, 56}, {56, 90, 67, 89},{47, 78, 55, 34}}\n",
    "#int nbLigEﬀ=4\n",
    "#int nbColEﬀ=4\n",
    "#int temp\n",
    "#int i=0\n",
    "#while (i<nbLigEﬀ) \n",
    "   # j=i+1\n",
    "   # while (j<nbColEﬀ) \n",
    "    #    temp = tab[i][j]\n",
    "     #   tab[i][j] = tab[j][i]\n",
    "      #  tab[j][i] = temp\n",
    "       # j=j+1\n",
    "   # i=i+1\n",
    "#print(temp)\n",
    "import numpy as np\n",
    "tab = np.array([[10, 11, 45, 78],[23, 44, 12, 56],[56, 90, 67, 89],[47, 78, 55, 34]])\n",
    "i=0\n",
    "echange=0\n",
    "while (i < len(tab)):\n",
    "    j=0\n",
    "    while (j < len(tab)):\n",
    "        echange = tab[i][j]\n",
    "        tab[i][j] = tab[j][i]\n",
    "        tab[j][i] = echange   \n",
    "print (echange)"
   ]
  },
  {
   "cell_type": "markdown",
   "metadata": {},
   "source": [
    "## Fibonnacci"
   ]
  },
  {
   "cell_type": "code",
   "execution_count": null,
   "metadata": {},
   "outputs": [],
   "source": [
    "n = int(input(\"Tapez un nombre :\"))\n",
    "def fib(n):\n",
    "    if n==1 or n==2:\n",
    "        return 1\n",
    "    else:   \n",
    "        return fib(n-1)+fib(n-2)\n",
    "print (fib(n))"
   ]
  }
 ],
 "metadata": {
  "kernelspec": {
   "display_name": "Python 3",
   "language": "python",
   "name": "python3"
  },
  "language_info": {
   "codemirror_mode": {
    "name": "ipython",
    "version": 3
   },
   "file_extension": ".py",
   "mimetype": "text/x-python",
   "name": "python",
   "nbconvert_exporter": "python",
   "pygments_lexer": "ipython3",
   "version": "3.7.0"
  }
 },
 "nbformat": 4,
 "nbformat_minor": 2
}
