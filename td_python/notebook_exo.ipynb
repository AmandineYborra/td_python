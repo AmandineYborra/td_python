{
 "cells": [
  {
   "cell_type": "markdown",
   "metadata": {},
   "source": [
    "## Palindrome"
   ]
  },
  {
   "cell_type": "code",
   "execution_count": null,
   "metadata": {},
   "outputs": [],
   "source": [
    "chaine = input(\"Entrez un mot :\")\n",
    "if chaine == chaine[::-1]:\n",
    "    print (chaine, \"est un palindrome\")\n",
    "else:\n",
    "    print (chaine, \"n'est pas un palindrome\")"
   ]
  },
  {
   "cell_type": "markdown",
   "metadata": {},
   "source": [
    "## Lancer de dés"
   ]
  },
  {
   "cell_type": "code",
   "execution_count": 2,
   "metadata": {},
   "outputs": [
    {
     "name": "stdout",
     "output_type": "stream",
     "text": [
      "2\n",
      "1\n",
      "6\n",
      "2\n",
      "6\n",
      "17\n"
     ]
    }
   ],
   "source": [
    "from random import* \n",
    "\n",
    "# On tire 5 nombres aléatoire entre 1 et 6\n",
    "de1=randint(1,6)\n",
    "print(de1)\n",
    "\n",
    "de2=randint(1,6)\n",
    "print(de2)\n",
    "\n",
    "de3=randint(1,6)\n",
    "print(de3)\n",
    "\n",
    "de4=randint(1,6)\n",
    "print(de4)\n",
    "\n",
    "de5=randint(1,6)\n",
    "print(de5)\n",
    "     \n",
    "sommeDes = de1 + de2 + de3 + de4 + de5\n",
    "print(sommeDes)"
   ]
  },
  {
   "cell_type": "markdown",
   "metadata": {},
   "source": [
    "## Calcul des moyennes"
   ]
  },
  {
   "cell_type": "code",
   "execution_count": null,
   "metadata": {},
   "outputs": [],
   "source": [
    "sommeNotes = 0\n",
    "moyenne = 0\n",
    "for i in range(5):\n",
    "    note = int(input(\"Entrez une note :\"))\n",
    "    sommeNotes += note # somme des notes\n",
    "    print(sommeNotes)    \n",
    "moyenne = sommeNotes / 5 # moyenne issue de la des notes\n",
    "print(moyenne)"
   ]
  },
  {
   "cell_type": "markdown",
   "metadata": {},
   "source": [
    "## Traitement des données contenues dans une matrice"
   ]
  },
  {
   "cell_type": "markdown",
   "metadata": {},
   "source": [
    "4.1"
   ]
  },
  {
   "cell_type": "code",
   "execution_count": 41,
   "metadata": {},
   "outputs": [
    {
     "name": "stdout",
     "output_type": "stream",
     "text": [
      "[]\n",
      "[]\n",
      "[]\n"
     ]
    }
   ],
   "source": [
    "tab2d = [[6, 2, 3, 5], [4, 6, 2, 6]]\n",
    "impairsI = []\n",
    "impairsJ = []\n",
    "a=()\n",
    "def nbImpair():\n",
    "    a%2 !=0\n",
    "for i in tab2d:\n",
    "    j=0\n",
    "    if i == nbImpair:\n",
    "        impairsI.append(i)\n",
    "        i+=1\n",
    "    print(impairsI)\n",
    "    for j in tab2d:\n",
    "        if j == nbImpair:\n",
    "            impairsJ.append(j)\n",
    "            j+=1\n",
    "            print(impairsJ)\n",
    "sommeImpairs = impairsI + impairsJ\n",
    "print(sommeImpairs)"
   ]
  },
  {
   "cell_type": "markdown",
   "metadata": {},
   "source": [
    "4.2"
   ]
  },
  {
   "cell_type": "code",
   "execution_count": 10,
   "metadata": {},
   "outputs": [
    {
     "name": "stdout",
     "output_type": "stream",
     "text": [
      "[[6 2 3 5]\n",
      " [4 6 2 6]\n",
      " [1 3 6 7]\n",
      " [3 6 3 8]]\n",
      "[6 6 6 8]\n",
      "[3 3 2 5]\n"
     ]
    }
   ],
   "source": [
    "import numpy as np\n",
    "tab2d = np.array([[6, 2, 3, 5], [4, 6, 2, 6], [1, 3, 6, 7], [3, 6, 3, 8]])\n",
    "print(tab2d) # Test\n",
    "print(np.diag(tab2d)) # 1ère diagonale\n",
    "print(np.diag(tab2d[::-1])) # 2ème diagonale"
   ]
  },
  {
   "cell_type": "markdown",
   "metadata": {},
   "source": [
    "4.3"
   ]
  },
  {
   "cell_type": "code",
   "execution_count": 7,
   "metadata": {},
   "outputs": [],
   "source": [
    "import numpy as np\n",
    "tab2d = np.array([[6, 2, 3, 5], [4, 6, 2, 6], [1, 3, 6, 7], [3, 6, 3, 8]])\n",
    "def verification():\n",
    "    a = np.sum([np.diag(tab2d)])\n",
    "    b = np.sum([np.diag(tab2d[::1])])\n",
    "    if a == b:\n",
    "        print(\"Oui\")\n",
    "    else:\n",
    "        print(\"Non\")"
   ]
  },
  {
   "cell_type": "markdown",
   "metadata": {},
   "source": [
    "4.4"
   ]
  },
  {
   "cell_type": "code",
   "execution_count": 5,
   "metadata": {},
   "outputs": [
    {
     "name": "stdout",
     "output_type": "stream",
     "text": [
      "[[6 2 3 5]\n",
      " [4 4 2 6]\n",
      " [1 3 6 7]\n",
      " [3 6 3 8]\n",
      " [6 0 1 4]]\n",
      "[4.   4.   4.25 5.   2.75]\n",
      "3\n"
     ]
    }
   ],
   "source": [
    "import numpy as np\n",
    "tab = np.array([[6, 2, 3, 5], [4, 4, 2, 6], [1, 3, 6, 7], [3, 6, 3, 8],[6, 0, 1, 4]])\n",
    "print(tab)\n",
    "\n",
    "a = (tab.sum(axis=1)) / 4 # moyennes par colonnes\n",
    "print(a)\n",
    "\n",
    "b = np.argmax(a) # indice de la colonne à la moyenne la plus forte\n",
    "print(b)"
   ]
  },
  {
   "cell_type": "markdown",
   "metadata": {},
   "source": [
    "## Base de données étudiante"
   ]
  },
  {
   "cell_type": "markdown",
   "metadata": {},
   "source": [
    "5.1"
   ]
  },
  {
   "cell_type": "code",
   "execution_count": 2,
   "metadata": {},
   "outputs": [
    {
     "name": "stdout",
     "output_type": "stream",
     "text": [
      "[['Numéro' 'Nom' 'Prénom']\n",
      " ['1' 'Yborra' 'Amandine']\n",
      " ['2' 'Ben Khalaf' 'Haïfa']\n",
      " ['3' 'Durand' 'Matthieu']\n",
      " ['4' 'Dumanois' 'Axel']]\n"
     ]
    }
   ],
   "source": [
    "import numpy as np\n",
    "bddEtudiants = np.array([['Numéro', 'Nom', 'Prénom'], [1, 'Yborra', 'Amandine'], [2, 'Ben Khalaf', 'Haïfa'], [3, 'Durand', 'Matthieu'], [4, 'Dumanois', 'Axel']])\n",
    "print(bddEtudiants)"
   ]
  },
  {
   "cell_type": "markdown",
   "metadata": {},
   "source": [
    "5.2"
   ]
  },
  {
   "cell_type": "code",
   "execution_count": null,
   "metadata": {},
   "outputs": [],
   "source": []
  },
  {
   "cell_type": "markdown",
   "metadata": {},
   "source": [
    "## Année bissextile"
   ]
  },
  {
   "cell_type": "code",
   "execution_count": 4,
   "metadata": {},
   "outputs": [
    {
     "name": "stdout",
     "output_type": "stream",
     "text": [
      "Saisissez une année : 2008\n",
      "L'année est bissextile.\n"
     ]
    }
   ],
   "source": [
    "annee = int(input(\"Saisissez une année : \"))\n",
    "\n",
    "if annee % 400 == 0 or (annee % 4 == 0 and annee % 100 != 0):\n",
    "    print(\"L'année est bissextile.\")\n",
    "else:\n",
    "    print(\"L'année saisie n'est pas bissextile.\")"
   ]
  },
  {
   "cell_type": "markdown",
   "metadata": {},
   "source": [
    "## Echange de triangles"
   ]
  },
  {
   "cell_type": "code",
   "execution_count": 1,
   "metadata": {},
   "outputs": [
    {
     "data": {
      "text/plain": [
       "array([[10, 23, 56, 47],\n",
       "       [11, 44, 90, 78],\n",
       "       [45, 12, 67, 55],\n",
       "       [78, 56, 89, 34]])"
      ]
     },
     "execution_count": 1,
     "metadata": {},
     "output_type": "execute_result"
    }
   ],
   "source": [
    "import numpy as np\n",
    "tab = np.array([[10, 11, 45, 78],[23, 44, 12, 56],[56, 90, 67, 89],[47, 78, 55, 34]])\n",
    "np.transpose(tab)"
   ]
  },
  {
   "cell_type": "markdown",
   "metadata": {},
   "source": [
    "## Fibonnacci"
   ]
  },
  {
   "cell_type": "code",
   "execution_count": null,
   "metadata": {},
   "outputs": [],
   "source": [
    "n = int(input(\"Tapez un nombre :\"))\n",
    "def fib(n):\n",
    "    if n==1 or n==2:\n",
    "        return 1\n",
    "    else:   \n",
    "        return fib(n-1)+fib(n-2)\n",
    "print (fib(n))"
   ]
  }
 ],
 "metadata": {
  "kernelspec": {
   "display_name": "Python 3",
   "language": "python",
   "name": "python3"
  },
  "language_info": {
   "codemirror_mode": {
    "name": "ipython",
    "version": 3
   },
   "file_extension": ".py",
   "mimetype": "text/x-python",
   "name": "python",
   "nbconvert_exporter": "python",
   "pygments_lexer": "ipython3",
   "version": "3.7.0"
  }
 },
 "nbformat": 4,
 "nbformat_minor": 2
}
